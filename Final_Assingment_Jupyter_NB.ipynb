{
  "metadata": {
    "language_info": {
      "codemirror_mode": {
        "name": "python",
        "version": 3
      },
      "file_extension": ".py",
      "mimetype": "text/x-python",
      "name": "python",
      "nbconvert_exporter": "python",
      "pygments_lexer": "ipython3",
      "version": "3.8"
    },
    "kernelspec": {
      "name": "python",
      "display_name": "Pyolite",
      "language": "python"
    }
  },
  "nbformat_minor": 4,
  "nbformat": 4,
  "cells": [
    {
      "cell_type": "markdown",
      "source": "# My Jupyter Notebook on IBM Watson Studio",
      "metadata": {}
    },
    {
      "cell_type": "markdown",
      "source": "**Arielle Kahn** \\\nR&D Scientist",
      "metadata": {}
    },
    {
      "cell_type": "markdown",
      "source": "*I am interested in data science because I want to expand my skill set*",
      "metadata": {}
    },
    {
      "cell_type": "markdown",
      "source": "### My code is supposed to print the result of adding two defined numbers",
      "metadata": {}
    },
    {
      "cell_type": "code",
      "source": "num1 = 5\nnum2 = 2\nprint(num1 + num2)",
      "metadata": {
        "trusted": true
      },
      "execution_count": 3,
      "outputs": [
        {
          "name": "stdout",
          "text": "7\n",
          "output_type": "stream"
        }
      ]
    },
    {
      "cell_type": "markdown",
      "source": "#### Places to Visit:\n* The moon\n* Jupiter\n* England\n\n#### Packing Table:\n|Item|Amount|\n|:---:|:---:|\n|Coat|1|\n|Socks|3|\n|Space suit|1|\n|Moon Boots|2|\n\n#### For more tarvel details visit:\n[NASA's Homepage](https://www.nasa.gov/ \"NASA's Homepage\")\n",
      "metadata": {}
    },
    {
      "cell_type": "code",
      "source": "",
      "metadata": {},
      "execution_count": null,
      "outputs": []
    }
  ]
}